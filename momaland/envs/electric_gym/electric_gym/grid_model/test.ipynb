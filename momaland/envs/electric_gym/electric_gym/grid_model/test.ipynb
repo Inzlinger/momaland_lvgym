{
 "cells": [
  {
   "cell_type": "code",
   "execution_count": 1,
   "metadata": {},
   "outputs": [],
   "source": [
    "from single_feeder_grid_manager import SingleFeederGridManager"
   ]
  },
  {
   "cell_type": "code",
   "execution_count": 2,
   "metadata": {},
   "outputs": [
    {
     "name": "stdout",
     "output_type": "stream",
     "text": [
      "         0         1         2         3         4         5         6   \\\n",
      "0  0.001894  0.000711  0.000707  0.000132  0.001284  0.000433  0.001139   \n",
      "1  0.001874  0.000201  0.002041  0.000381  0.001270  0.001250  0.003291   \n",
      "2  0.002464  0.000191  0.002050  0.000336  0.001670  0.001255  0.003305   \n",
      "3  0.002205  0.000196  0.002356  0.000227  0.001495  0.001442  0.003798   \n",
      "4  0.002422  0.000228  0.002228  0.000269  0.001642  0.001364  0.003592   \n",
      "\n",
      "         7         8         9         10        11        12   13   14   15  \\\n",
      "0  0.004398  0.000963  0.001716  0.000553  0.000577  0.004398  0.0  0.0  0.0   \n",
      "1  0.004350  0.000953  0.004958  0.000132  0.001667  0.004350  0.0  0.0  0.0   \n",
      "2  0.005720  0.001253  0.004979  0.000413  0.001674  0.005720  0.0  0.0  0.0   \n",
      "3  0.005119  0.001121  0.005721  0.000256  0.001923  0.005119  0.0  0.0  0.0   \n",
      "4  0.005624  0.001232  0.005411  0.000216  0.001819  0.005624  0.0  0.0  0.0   \n",
      "\n",
      "    16   17   18   19   20   21   22   23   24   25   26   27  \n",
      "0  0.0  0.0  0.0  0.0  0.0  0.0  0.0  0.0  0.0  0.0  0.0  0.0  \n",
      "1  0.0  0.0  0.0  0.0  0.0  0.0  0.0  0.0  0.0  0.0  0.0  0.0  \n",
      "2  0.0  0.0  0.0  0.0  0.0  0.0  0.0  0.0  0.0  0.0  0.0  0.0  \n",
      "3  0.0  0.0  0.0  0.0  0.0  0.0  0.0  0.0  0.0  0.0  0.0  0.0  \n",
      "4  0.0  0.0  0.0  0.0  0.0  0.0  0.0  0.0  0.0  0.0  0.0  0.0  \n",
      "Index([0, 1, 2, 3, 4, 5, 6, 7, 8, 9, 10], dtype='int64')\n"
     ]
    },
    {
     "ename": "FileNotFoundError",
     "evalue": "[Errno 2] No such file or directory: './data/car_distributions.csv'",
     "output_type": "error",
     "traceback": [
      "\u001b[1;31m---------------------------------------------------------------------------\u001b[0m",
      "\u001b[1;31mFileNotFoundError\u001b[0m                         Traceback (most recent call last)",
      "Cell \u001b[1;32mIn[2], line 1\u001b[0m\n\u001b[1;32m----> 1\u001b[0m manager \u001b[38;5;241m=\u001b[39m \u001b[43mSingleFeederGridManager\u001b[49m\u001b[43m(\u001b[49m\u001b[43mpower_scaling\u001b[49m\u001b[38;5;241;43m=\u001b[39;49m\u001b[38;5;241;43m1\u001b[39;49m\u001b[43m,\u001b[49m\u001b[43m \u001b[49m\u001b[43mcontrol_p\u001b[49m\u001b[38;5;241;43m=\u001b[39;49m\u001b[38;5;28;43;01mTrue\u001b[39;49;00m\u001b[43m,\u001b[49m\u001b[43m \u001b[49m\u001b[43mcontrol_q\u001b[49m\u001b[38;5;241;43m=\u001b[39;49m\u001b[38;5;28;43;01mTrue\u001b[39;49;00m\u001b[43m,\u001b[49m\u001b[43m \u001b[49m\u001b[43mcontrol_q_shielding\u001b[49m\u001b[38;5;241;43m=\u001b[39;49m\u001b[38;5;28;43;01mFalse\u001b[39;49;00m\u001b[43m)\u001b[49m\n",
      "File \u001b[1;32mc:\\Users\\Jakob\\Desktop\\momaland\\momaland\\momaland\\envs\\electric_gym\\electric_gym\\grid_model\\single_feeder_grid_manager.py:121\u001b[0m, in \u001b[0;36mSingleFeederGridManager.__init__\u001b[1;34m(self, power_scaling, control_p, control_q, control_q_shielding)\u001b[0m\n\u001b[0;32m    118\u001b[0m \u001b[38;5;28mself\u001b[39m\u001b[38;5;241m.\u001b[39mheat_pump_controllers\u001b[38;5;241m.\u001b[39msort(key\u001b[38;5;241m=\u001b[39m\u001b[38;5;28;01mlambda\u001b[39;00m controller: controller\u001b[38;5;241m.\u001b[39mbus)\n\u001b[0;32m    119\u001b[0m \u001b[38;5;28mself\u001b[39m\u001b[38;5;241m.\u001b[39mev_controllers\u001b[38;5;241m.\u001b[39msort(key\u001b[38;5;241m=\u001b[39m\u001b[38;5;28;01mlambda\u001b[39;00m controller: controller\u001b[38;5;241m.\u001b[39mbus)\n\u001b[1;32m--> 121\u001b[0m \u001b[38;5;28;43mself\u001b[39;49m\u001b[38;5;241;43m.\u001b[39;49m\u001b[43mload_car_distributions\u001b[49m\u001b[43m(\u001b[49m\u001b[43m)\u001b[49m\n\u001b[0;32m    122\u001b[0m \u001b[38;5;28;01mfor\u001b[39;00m i \u001b[38;5;129;01min\u001b[39;00m \u001b[38;5;28mrange\u001b[39m(\u001b[38;5;241m2\u001b[39m, \u001b[38;5;241m7\u001b[39m):\n\u001b[0;32m    123\u001b[0m     ev_id \u001b[38;5;241m=\u001b[39m pp\u001b[38;5;241m.\u001b[39mcreate_storage(\n\u001b[0;32m    124\u001b[0m         \u001b[38;5;28mself\u001b[39m\u001b[38;5;241m.\u001b[39mgrid,\n\u001b[0;32m    125\u001b[0m         bus\u001b[38;5;241m=\u001b[39mi,\n\u001b[1;32m   (...)\u001b[0m\n\u001b[0;32m    137\u001b[0m         name\u001b[38;5;241m=\u001b[39m\u001b[38;5;124m\"\u001b[39m\u001b[38;5;124mEV Charger Bus 3\u001b[39m\u001b[38;5;124m\"\u001b[39m,\n\u001b[0;32m    138\u001b[0m     )\n",
      "File \u001b[1;32mc:\\Users\\Jakob\\Desktop\\momaland\\momaland\\momaland\\envs\\electric_gym\\electric_gym\\grid_model\\single_feeder_grid_manager.py:450\u001b[0m, in \u001b[0;36mSingleFeederGridManager.load_car_distributions\u001b[1;34m(self)\u001b[0m\n\u001b[0;32m    449\u001b[0m \u001b[38;5;28;01mdef\u001b[39;00m\u001b[38;5;250m \u001b[39m\u001b[38;5;21mload_car_distributions\u001b[39m(\u001b[38;5;28mself\u001b[39m):\n\u001b[1;32m--> 450\u001b[0m     \u001b[38;5;28;01mwith\u001b[39;00m \u001b[38;5;28;43mopen\u001b[39;49m\u001b[43m(\u001b[49m\u001b[38;5;124;43m\"\u001b[39;49m\u001b[38;5;124;43m./data/car_distributions.csv\u001b[39;49m\u001b[38;5;124;43m\"\u001b[39;49m\u001b[43m,\u001b[49m\u001b[43m \u001b[49m\u001b[38;5;124;43m\"\u001b[39;49m\u001b[38;5;124;43mr\u001b[39;49m\u001b[38;5;124;43m\"\u001b[39;49m\u001b[43m)\u001b[49m \u001b[38;5;28;01mas\u001b[39;00m f:\n\u001b[0;32m    451\u001b[0m         data \u001b[38;5;241m=\u001b[39m pd\u001b[38;5;241m.\u001b[39mread_csv(f)\n\u001b[0;32m    452\u001b[0m     \u001b[38;5;28mself\u001b[39m\u001b[38;5;241m.\u001b[39mev_arrival_probabilities \u001b[38;5;241m=\u001b[39m data[\u001b[38;5;124m\"\u001b[39m\u001b[38;5;124marrival\u001b[39m\u001b[38;5;124m\"\u001b[39m]\n",
      "\u001b[1;31mFileNotFoundError\u001b[0m: [Errno 2] No such file or directory: './data/car_distributions.csv'"
     ]
    }
   ],
   "source": [
    "manager = SingleFeederGridManager(power_scaling=1, control_p=True, control_q=True, control_q_shielding=False)"
   ]
  }
 ],
 "metadata": {
  "kernelspec": {
   "display_name": "momavenv",
   "language": "python",
   "name": "python3"
  },
  "language_info": {
   "codemirror_mode": {
    "name": "ipython",
    "version": 3
   },
   "file_extension": ".py",
   "mimetype": "text/x-python",
   "name": "python",
   "nbconvert_exporter": "python",
   "pygments_lexer": "ipython3",
   "version": "3.9.13"
  }
 },
 "nbformat": 4,
 "nbformat_minor": 2
}
