{
 "cells": [
  {
   "cell_type": "code",
   "execution_count": 6,
   "metadata": {},
   "outputs": [],
   "source": [
    "from single_feeder_grid_manager import SingleFeederGridManager"
   ]
  },
  {
   "cell_type": "code",
   "execution_count": 9,
   "metadata": {},
   "outputs": [
    {
     "name": "stdout",
     "output_type": "stream",
     "text": [
      "                 0             1             2             3             4   \\\n",
      "count  35136.000000  35136.000000  35136.000000  35136.000000  35136.000000   \n",
      "mean       0.001218      0.000746      0.001021      0.002958      0.004663   \n",
      "std        0.000654      0.000400      0.000437      0.001588      0.001995   \n",
      "min        0.000000      0.000000      0.000316      0.000000      0.001442   \n",
      "25%        0.000786      0.000481      0.000626      0.001909      0.002860   \n",
      "50%        0.000993      0.000608      0.000989      0.002411      0.004519   \n",
      "75%        0.001534      0.000939      0.001308      0.003726      0.005973   \n",
      "max        0.004900      0.003000      0.003000      0.011900      0.013700   \n",
      "\n",
      "                 5             6             7             8             9   \\\n",
      "count  35136.000000  35136.000000  35136.000000  35136.000000  35136.000000   \n",
      "mean       0.000109      0.000119      0.000325      0.000087      0.000820   \n",
      "std        0.000243      0.000974      0.000671      0.000535      0.001562   \n",
      "min        0.000000      0.000000      0.000000      0.000000      0.000000   \n",
      "25%        0.000000      0.000000      0.000000      0.000000      0.000000   \n",
      "50%        0.000000      0.000000      0.000000      0.000000      0.000000   \n",
      "75%        0.000000      0.000000      0.000000      0.000000      0.000000   \n",
      "max        0.002000      0.010826      0.003000      0.003684      0.004900   \n",
      "\n",
      "                 10  \n",
      "count  35136.000000  \n",
      "mean       0.000402  \n",
      "std        0.000895  \n",
      "min        0.000000  \n",
      "25%        0.000000  \n",
      "50%        0.000000  \n",
      "75%        0.000000  \n",
      "max        0.004900  \n"
     ]
    },
    {
     "ename": "FileNotFoundError",
     "evalue": "[Errno 2] No such file or directory: './data/car_distributions.csv'",
     "output_type": "error",
     "traceback": [
      "\u001b[1;31m---------------------------------------------------------------------------\u001b[0m",
      "\u001b[1;31mFileNotFoundError\u001b[0m                         Traceback (most recent call last)",
      "Cell \u001b[1;32mIn[9], line 1\u001b[0m\n\u001b[1;32m----> 1\u001b[0m manager \u001b[38;5;241m=\u001b[39m \u001b[43mSingleFeederGridManager\u001b[49m\u001b[43m(\u001b[49m\u001b[43mpower_scaling\u001b[49m\u001b[38;5;241;43m=\u001b[39;49m\u001b[38;5;241;43m1\u001b[39;49m\u001b[43m,\u001b[49m\u001b[43m \u001b[49m\u001b[43mcontrol_p\u001b[49m\u001b[38;5;241;43m=\u001b[39;49m\u001b[38;5;28;43;01mTrue\u001b[39;49;00m\u001b[43m,\u001b[49m\u001b[43m \u001b[49m\u001b[43mcontrol_q\u001b[49m\u001b[38;5;241;43m=\u001b[39;49m\u001b[38;5;28;43;01mTrue\u001b[39;49;00m\u001b[43m,\u001b[49m\u001b[43m \u001b[49m\u001b[43mcontrol_q_shielding\u001b[49m\u001b[38;5;241;43m=\u001b[39;49m\u001b[38;5;28;43;01mFalse\u001b[39;49;00m\u001b[43m)\u001b[49m\n",
      "File \u001b[1;32mc:\\Users\\Jakob\\Desktop\\momaland\\momaland\\momaland\\envs\\electric_gym\\electric_gym\\grid_model\\single_feeder_grid_manager.py:121\u001b[0m, in \u001b[0;36mSingleFeederGridManager.__init__\u001b[1;34m(self, power_scaling, control_p, control_q, control_q_shielding)\u001b[0m\n\u001b[0;32m    118\u001b[0m \u001b[38;5;28mself\u001b[39m\u001b[38;5;241m.\u001b[39mheat_pump_controllers\u001b[38;5;241m.\u001b[39msort(key\u001b[38;5;241m=\u001b[39m\u001b[38;5;28;01mlambda\u001b[39;00m controller: controller\u001b[38;5;241m.\u001b[39mbus)\n\u001b[0;32m    119\u001b[0m \u001b[38;5;28mself\u001b[39m\u001b[38;5;241m.\u001b[39mev_controllers\u001b[38;5;241m.\u001b[39msort(key\u001b[38;5;241m=\u001b[39m\u001b[38;5;28;01mlambda\u001b[39;00m controller: controller\u001b[38;5;241m.\u001b[39mbus)\n\u001b[1;32m--> 121\u001b[0m \u001b[38;5;28;43mself\u001b[39;49m\u001b[38;5;241;43m.\u001b[39;49m\u001b[43mload_car_distributions\u001b[49m\u001b[43m(\u001b[49m\u001b[43m)\u001b[49m\n\u001b[0;32m    122\u001b[0m \u001b[38;5;28;01mfor\u001b[39;00m i \u001b[38;5;129;01min\u001b[39;00m \u001b[38;5;28mrange\u001b[39m(\u001b[38;5;241m2\u001b[39m, \u001b[38;5;241m7\u001b[39m):\n\u001b[0;32m    123\u001b[0m     ev_id \u001b[38;5;241m=\u001b[39m pp\u001b[38;5;241m.\u001b[39mcreate_storage(\n\u001b[0;32m    124\u001b[0m         \u001b[38;5;28mself\u001b[39m\u001b[38;5;241m.\u001b[39mgrid,\n\u001b[0;32m    125\u001b[0m         bus\u001b[38;5;241m=\u001b[39mi,\n\u001b[1;32m   (...)\u001b[0m\n\u001b[0;32m    137\u001b[0m         name\u001b[38;5;241m=\u001b[39m\u001b[38;5;124m\"\u001b[39m\u001b[38;5;124mEV Charger Bus 3\u001b[39m\u001b[38;5;124m\"\u001b[39m,\n\u001b[0;32m    138\u001b[0m     )\n",
      "File \u001b[1;32mc:\\Users\\Jakob\\Desktop\\momaland\\momaland\\momaland\\envs\\electric_gym\\electric_gym\\grid_model\\single_feeder_grid_manager.py:450\u001b[0m, in \u001b[0;36mSingleFeederGridManager.load_car_distributions\u001b[1;34m(self)\u001b[0m\n\u001b[0;32m    449\u001b[0m \u001b[38;5;28;01mdef\u001b[39;00m\u001b[38;5;250m \u001b[39m\u001b[38;5;21mload_car_distributions\u001b[39m(\u001b[38;5;28mself\u001b[39m):\n\u001b[1;32m--> 450\u001b[0m     \u001b[38;5;28;01mwith\u001b[39;00m \u001b[38;5;28;43mopen\u001b[39;49m\u001b[43m(\u001b[49m\u001b[38;5;124;43m\"\u001b[39;49m\u001b[38;5;124;43m./data/car_distributions.csv\u001b[39;49m\u001b[38;5;124;43m\"\u001b[39;49m\u001b[43m,\u001b[49m\u001b[43m \u001b[49m\u001b[38;5;124;43m\"\u001b[39;49m\u001b[38;5;124;43mr\u001b[39;49m\u001b[38;5;124;43m\"\u001b[39;49m\u001b[43m)\u001b[49m \u001b[38;5;28;01mas\u001b[39;00m f:\n\u001b[0;32m    451\u001b[0m         data \u001b[38;5;241m=\u001b[39m pd\u001b[38;5;241m.\u001b[39mread_csv(f)\n\u001b[0;32m    452\u001b[0m     \u001b[38;5;28mself\u001b[39m\u001b[38;5;241m.\u001b[39mev_arrival_probabilities \u001b[38;5;241m=\u001b[39m data[\u001b[38;5;124m\"\u001b[39m\u001b[38;5;124marrival\u001b[39m\u001b[38;5;124m\"\u001b[39m]\n",
      "\u001b[1;31mFileNotFoundError\u001b[0m: [Errno 2] No such file or directory: './data/car_distributions.csv'"
     ]
    }
   ],
   "source": [
    "manager = SingleFeederGridManager(power_scaling=1, control_p=True, control_q=True, control_q_shielding=False)"
   ]
  }
 ],
 "metadata": {
  "kernelspec": {
   "display_name": "momavenv",
   "language": "python",
   "name": "python3"
  },
  "language_info": {
   "codemirror_mode": {
    "name": "ipython",
    "version": 3
   },
   "file_extension": ".py",
   "mimetype": "text/x-python",
   "name": "python",
   "nbconvert_exporter": "python",
   "pygments_lexer": "ipython3",
   "version": "3.9.13"
  }
 },
 "nbformat": 4,
 "nbformat_minor": 2
}
